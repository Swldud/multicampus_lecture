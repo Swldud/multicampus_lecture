{
 "cells": [
  {
   "cell_type": "markdown",
   "id": "8db3889c",
   "metadata": {},
   "source": [
    "### 파이썬의 주요 데이터 분석 라이브러리\n",
    "- NumPy (넘파이) : 배열, 행렬 관련 편리한 기능 제공\n",
    "- Pnadas (판다스) : Series, DataFrame 등의 자료구조를 활용한 \n",
    "                    데이터 분석 기능 제공\n",
    "- Matplotlib (맷플롯립) : 데이터 분석 결과를 시각화하는데 유용한 기능 제공"
   ]
  },
  {
   "cell_type": "markdown",
   "id": "1cba03a0",
   "metadata": {},
   "source": [
    "### 판다스 (pandas)\n",
    "    - series, DataFrame등의 자료구조를 활용한 데이터 분석 기능을 제공해주는 라이브러리\n",
    "    - pandas 라이브러리 구성\n",
    "        - 여러종류의 클래스와 다양한 함수로 구성\n",
    "        - 시리즈와 데이터 프레임의 데이터 구조 클래스 객체 포함\n",
    "        - 시리즈(1차원 배열) 데이터프레임(2차원 테이블 형태)"
   ]
  },
  {
   "cell_type": "markdown",
   "id": "4b989742",
   "metadata": {},
   "source": [
    "#### 판다스의 목적\n",
    "    - 서로 다른 여러 가지 유형의 데이터를 공통된 포맷으로 정리하는 것\n",
    "    - 특히, 행과 열로 이루어진 2차원 구조의 데이터프레임 형식으로 사용\n",
    "    - 데이터 분석 실무에서 사용됨"
   ]
  },
  {
   "cell_type": "markdown",
   "id": "97557dce",
   "metadata": {},
   "source": [
    "#### Series\n",
    "  - pandas의 기본 객체 중 하나\n",
    "  - 동일한 타입의 데이터가 순차적으로 나열된 1차원 배열 형태\n",
    "  - 인덱스(index)와 데이터 값(value)이 일대일로 대응"
   ]
  },
  {
   "cell_type": "markdown",
   "id": "a906f7c3",
   "metadata": {},
   "source": [
    "### Series 학습 내용\n",
    "- Series 생성 방법  \n",
    "- 시리즈 데이터의 추가/삭제/갱신 \n",
    "- 인덱싱        \n",
    "- 슬라이싱     \n",
    "- 시리즈 연산     \n",
    "- 시리즈 속성 및 함수  \n",
    "- 날짜 인덱스를 이용한 시리즈 생성"
   ]
  },
  {
   "cell_type": "markdown",
   "id": "cb3b186f",
   "metadata": {},
   "source": [
    "### 판다스/넘파이 모듈 import\n",
    "\n",
    "- 데이터분석에서 기본 패키지 :  pandas와 numpy 패키지  \n",
    "- 일반적으로 pandas 모듈은 pd 라는 별칭 사용  \n",
    "- numpy는 np라는 별칭 사용"
   ]
  },
  {
   "cell_type": "code",
   "execution_count": 2,
   "id": "902eee0c",
   "metadata": {},
   "outputs": [],
   "source": [
    "import pandas as pd\n",
    "import numpy as np"
   ]
  },
  {
   "cell_type": "markdown",
   "id": "a384ed65",
   "metadata": {},
   "source": [
    "#### Series 생성 방법 : pd.Series(집합적 자료형  \n",
    "    (1) 리스트로 생성  \n",
    "    (2) 튜플로 생성  \n",
    "    (3) 딕셔너리로 생성 \n",
    "    (4) range/np.arange 함수 사용해서 생성"
   ]
  },
  {
   "cell_type": "markdown",
   "id": "767d5efa",
   "metadata": {},
   "source": [
    "### (1) 리스트로 생성  \n",
    " - index는 명시하지 않을 경우 기본적으로 0부터 자동 생성"
   ]
  },
  {
   "cell_type": "code",
   "execution_count": 15,
   "id": "7b4a9ef0",
   "metadata": {},
   "outputs": [
    {
     "data": {
      "text/plain": [
       "0    1\n",
       "1    2\n",
       "2    3\n",
       "dtype: int64"
      ]
     },
     "execution_count": 15,
     "metadata": {},
     "output_type": "execute_result"
    }
   ],
   "source": [
    "# pd.Series(집합적 자료형)\n",
    "# pd.Series(리스트)\n",
    "\n",
    "s = pd.Series([1,2,3])\n",
    "s # dtype: int64"
   ]
  },
  {
   "cell_type": "code",
   "execution_count": 13,
   "id": "048d765b",
   "metadata": {},
   "outputs": [
    {
     "data": {
      "text/plain": [
       "0      a\n",
       "1      1\n",
       "2    3.0\n",
       "dtype: object"
      ]
     },
     "execution_count": 13,
     "metadata": {},
     "output_type": "execute_result"
    }
   ],
   "source": [
    "# 리스트 내에 서로 다른 타입의 데이터가 있으면 형변환이 발생\n",
    "# 문자열이 포함된 경우 문자형으로 변환\n",
    "\n",
    "s1 = pd.Series(['a',1,3.0])\n",
    "s1 # dtype: object"
   ]
  },
  {
   "cell_type": "code",
   "execution_count": 4,
   "id": "6d68d60b",
   "metadata": {},
   "outputs": [
    {
     "name": "stdout",
     "output_type": "stream",
     "text": [
      "Requirement already satisfied: numpy in c:\\users\\simjiyoung\\appdata\\local\\programs\\python\\python310\\lib\\site-packages (1.24.2)\n"
     ]
    },
    {
     "name": "stderr",
     "output_type": "stream",
     "text": [
      "\n",
      "[notice] A new release of pip available: 22.3.1 -> 23.1.2\n",
      "[notice] To update, run: python.exe -m pip install --upgrade pip\n"
     ]
    }
   ],
   "source": [
    "# !pip install pandas # 주피터에서 설치할 때는 !pip를 씀.\n",
    "!pip install numpy"
   ]
  },
  {
   "cell_type": "code",
   "execution_count": null,
   "id": "a23fdb2c",
   "metadata": {},
   "outputs": [],
   "source": [
    "# 정수, 실수 섞여 있는 경우 실수로 변환\n",
    "s = pd.Series([0, 1, 3.0])\n",
    "s\n",
    "# dtype: float64"
   ]
  },
  {
   "cell_type": "code",
   "execution_count": 20,
   "id": "853d740b",
   "metadata": {},
   "outputs": [
    {
     "data": {
      "text/plain": [
       "0    0.0\n",
       "1    1.0\n",
       "2    3.0\n",
       "3    NaN\n",
       "dtype: float64"
      ]
     },
     "execution_count": 20,
     "metadata": {},
     "output_type": "execute_result"
    }
   ],
   "source": [
    "# NAN 값이 있으면 실수로 인식한다\n",
    "s = pd.Series([0,1,3.0,np.nan])\n",
    "s # dtype: float64"
   ]
  },
  {
   "cell_type": "code",
   "execution_count": 120,
   "id": "bfd58914",
   "metadata": {},
   "outputs": [
    {
     "data": {
      "text/plain": [
       "1    1\n",
       "2    2\n",
       "3    3\n",
       "dtype: int64"
      ]
     },
     "execution_count": 120,
     "metadata": {},
     "output_type": "execute_result"
    }
   ],
   "source": [
    "# index 명시 : 숫자 인덱스\n",
    "s = pd.Series([1,2,3], index=[1,2,3])\n",
    "s"
   ]
  },
  {
   "cell_type": "code",
   "execution_count": 123,
   "id": "63ba99ac",
   "metadata": {},
   "outputs": [
    {
     "data": {
      "text/plain": [
       "홍갈동    1\n",
       "이몽룡    2\n",
       "성춘향    3\n",
       "dtype: int64"
      ]
     },
     "execution_count": 123,
     "metadata": {},
     "output_type": "execute_result"
    }
   ],
   "source": [
    "# index 명시 : 문자 인덱스\n",
    "s = pd.Series([1,2,3], index = ['홍갈동', '이몽룡', '성춘향']) ; s"
   ]
  },
  {
   "cell_type": "code",
   "execution_count": 54,
   "id": "f0023c55",
   "metadata": {},
   "outputs": [
    {
     "data": {
      "text/plain": [
       "성명\n",
       "홍갈동    1\n",
       "이몽룡    2\n",
       "성춘향    3\n",
       "Name: 성적, dtype: int64"
      ]
     },
     "execution_count": 54,
     "metadata": {},
     "output_type": "execute_result"
    },
    {
     "data": {
      "text/plain": [
       "성명\n",
       "홍갈동    1\n",
       "이몽룡    2\n",
       "성춘향    3\n",
       "Name: 성적, dtype: int64"
      ]
     },
     "execution_count": 54,
     "metadata": {},
     "output_type": "execute_result"
    },
    {
     "data": {
      "text/plain": [
       "array([1, 2, 3], dtype=int64)"
      ]
     },
     "execution_count": 54,
     "metadata": {},
     "output_type": "execute_result"
    }
   ],
   "source": [
    "# 시리즈에 이름 붙이기\n",
    "# 시리즈.name 속성 사용\n",
    "s.name = '성적'\n",
    "s\n",
    "\n",
    "# index에 이름 붙이기\n",
    "# 시리즈.index.name 속성 사용\n",
    "s.index.name = '성명'\n",
    "s\n",
    "\n",
    "s.values  # array([1, 2, 3], dtype=int64) 즉, series는 1차원 배열(array)의 형태이다. "
   ]
  },
  {
   "cell_type": "markdown",
   "id": "73c00f59",
   "metadata": {},
   "source": [
    "#### (2) 튜플로 생성"
   ]
  },
  {
   "cell_type": "code",
   "execution_count": 55,
   "id": "2aa1e1fe",
   "metadata": {},
   "outputs": [
    {
     "data": {
      "text/plain": [
       "0    1.0\n",
       "1    2.0\n",
       "2    3.0\n",
       "dtype: float64"
      ]
     },
     "execution_count": 55,
     "metadata": {},
     "output_type": "execute_result"
    }
   ],
   "source": [
    "#pd.serise(튜플)\n",
    "s2 = pd.Series((1.0,2.0,3.0))\n",
    "s2  # 위에서 작성한 것과 다르게 []를 쓰지 않음 = 리스트가 아님 = 튜플 형태로 생성\n",
    "    # tuple: 변경불가능한(immutable) 순서가 있음"
   ]
  },
  {
   "cell_type": "markdown",
   "id": "d98ef887",
   "metadata": {},
   "source": [
    "#### (3) 딕셔너리로 생성 \n",
    "- Series({key:value, key1:value1....})  \n",
    "- key -> 인덱스\n",
    "- value -> 값`"
   ]
  },
  {
   "cell_type": "code",
   "execution_count": 25,
   "id": "43a8eee0",
   "metadata": {},
   "outputs": [],
   "source": [
    "#변수 명이 두번 이상 출력되어도 모두 콘솔에서 보여줄 것\n",
    "\n",
    "from IPython.core.interactiveshell import InteractiveShell\n",
    "InteractiveShell.ast_node_interactivity=\"all\""
   ]
  },
  {
   "cell_type": "code",
   "execution_count": 27,
   "id": "984599e2",
   "metadata": {},
   "outputs": [
    {
     "data": {
      "text/plain": [
       "서울    9631482\n",
       "부산    3393191\n",
       "인천    2632035\n",
       "대전    1490158\n",
       "dtype: int64"
      ]
     },
     "execution_count": 27,
     "metadata": {},
     "output_type": "execute_result"
    },
    {
     "data": {
      "text/plain": [
       "Index(['서울', '부산', '인천', '대전'], dtype='object')"
      ]
     },
     "execution_count": 27,
     "metadata": {},
     "output_type": "execute_result"
    }
   ],
   "source": [
    "# 딕셔너리 시리즈 생성\n",
    "city = {'서울':9631482,'부산':3393191,'인천':2632035,'대전':1490158}\n",
    "s_city = pd.Series(city)  # city라는 dictionary를 series로 변환시키기.\n",
    "                          # s_city = pd.Series(city, index=['부산','인천','서울','대전'])과 같은 코드임.\n",
    "s_city\n",
    "s_city.index"
   ]
  },
  {
   "cell_type": "code",
   "execution_count": 31,
   "id": "591a8ccc",
   "metadata": {},
   "outputs": [
    {
     "data": {
      "text/plain": [
       "9631482"
      ]
     },
     "execution_count": 31,
     "metadata": {},
     "output_type": "execute_result"
    },
    {
     "data": {
      "text/plain": [
       "3393191"
      ]
     },
     "execution_count": 31,
     "metadata": {},
     "output_type": "execute_result"
    }
   ],
   "source": [
    "# 시리즈의 특정 값 출력: 인덱스 사용\n",
    "s_city['서울']\n",
    "# 문자 인덱스인 경우 위치 인덱스 사용 가능. 인덱스를 숫자로 넣으면 위치 인덱스를 사용할 때와 코드가 같아지기 때문에 충돌.\n",
    "s_city[2]"
   ]
  },
  {
   "cell_type": "markdown",
   "id": "107af431",
   "metadata": {},
   "source": [
    "### (4) range()/np.arange() 함수 사용해서 생성"
   ]
  },
  {
   "cell_type": "code",
   "execution_count": 56,
   "id": "abbe9fef",
   "metadata": {},
   "outputs": [
    {
     "data": {
      "text/plain": [
       "0    0\n",
       "1    1\n",
       "2    2\n",
       "3    3\n",
       "4    4\n",
       "dtype: int64"
      ]
     },
     "execution_count": 56,
     "metadata": {},
     "output_type": "execute_result"
    }
   ],
   "source": [
    "# range() 함수 사용해서 시리즈 생성\n",
    "s = pd.Series(range(5))  # index, value 모두 0~4\n",
    "s"
   ]
  },
  {
   "cell_type": "code",
   "execution_count": 57,
   "id": "95657d83",
   "metadata": {},
   "outputs": [
    {
     "data": {
      "text/plain": [
       "0    11\n",
       "1    12\n",
       "2    13\n",
       "3    14\n",
       "4    15\n",
       "dtype: int64"
      ]
     },
     "execution_count": 57,
     "metadata": {},
     "output_type": "execute_result"
    }
   ],
   "source": [
    "s = pd.Series(range(11,16))\n",
    "s"
   ]
  },
  {
   "cell_type": "code",
   "execution_count": 124,
   "id": "7ed06609",
   "metadata": {},
   "outputs": [
    {
     "data": {
      "text/plain": [
       "0    0\n",
       "1    1\n",
       "2    2\n",
       "3    3\n",
       "4    4\n",
       "5    5\n",
       "6    6\n",
       "7    7\n",
       "dtype: int32"
      ]
     },
     "execution_count": 124,
     "metadata": {},
     "output_type": "execute_result"
    },
    {
     "ename": "NameError",
     "evalue": "name 'arange' is not defined",
     "output_type": "error",
     "traceback": [
      "\u001b[1;31m---------------------------------------------------------------------------\u001b[0m",
      "\u001b[1;31mNameError\u001b[0m                                 Traceback (most recent call last)",
      "Cell \u001b[1;32mIn[124], line 5\u001b[0m\n\u001b[0;32m      2\u001b[0m s \u001b[38;5;241m=\u001b[39m pd\u001b[38;5;241m.\u001b[39mSeries(np\u001b[38;5;241m.\u001b[39marange(\u001b[38;5;241m8\u001b[39m)) \n\u001b[0;32m      3\u001b[0m s\n\u001b[1;32m----> 5\u001b[0m v \u001b[38;5;241m=\u001b[39m s \u001b[38;5;241m=\u001b[39m pd\u001b[38;5;241m.\u001b[39mSeries(\u001b[43marange\u001b[49m(\u001b[38;5;241m7\u001b[39m)) \n",
      "\u001b[1;31mNameError\u001b[0m: name 'arange' is not defined"
     ]
    }
   ],
   "source": [
    "# numpy의 arange() 사용\n",
    "s = pd.Series(np.arange(8)) \n",
    "s"
   ]
  },
  {
   "cell_type": "markdown",
   "id": "282823b9",
   "metadata": {},
   "source": [
    "### 결측값을 포함해서 시리즈 만들기\n",
    "    - 결측값 NaN - numpy의 nan 속성값으로 생성\n",
    "    - np.nan"
   ]
  },
  {
   "cell_type": "code",
   "execution_count": 38,
   "id": "603e53e0",
   "metadata": {},
   "outputs": [
    {
     "data": {
      "text/plain": [
       "0    1.0\n",
       "1    2.0\n",
       "2    3.0\n",
       "3    NaN\n",
       "4    5.0\n",
       "5    6.0\n",
       "dtype: float64"
      ]
     },
     "execution_count": 38,
     "metadata": {},
     "output_type": "execute_result"
    }
   ],
   "source": [
    "# NaN은 np.nan 속성값을 이용해서 생성\n",
    "s=pd.Series([1,2,3,np.nan,5,6]) # Series에서 NaN으로 적으면 오류 (*name 'NaN' is not defined)\n",
    "s"
   ]
  },
  {
   "cell_type": "code",
   "execution_count": null,
   "id": "ab823f61",
   "metadata": {},
   "outputs": [],
   "source": [
    "# 판다스에서는 None를 NaN으로 인식 \n",
    "s = pd.Series([1,2,3,None,5,6]) \n",
    "s"
   ]
  },
  {
   "cell_type": "markdown",
   "id": "cef90ae5",
   "metadata": {},
   "source": [
    "### 시리즈에 데이터 추가/수정/삭제하기"
   ]
  },
  {
   "cell_type": "code",
   "execution_count": 67,
   "id": "efdcc35c",
   "metadata": {},
   "outputs": [
    {
     "data": {
      "text/plain": [
       "홍길동     95\n",
       "이몽룡    100\n",
       "성춘향     88\n",
       "dtype: int64"
      ]
     },
     "execution_count": 67,
     "metadata": {},
     "output_type": "execute_result"
    },
    {
     "data": {
      "text/plain": [
       "홍길동     95\n",
       "이몽룡    100\n",
       "성춘향     88\n",
       "변학도     70\n",
       "dtype: int64"
      ]
     },
     "execution_count": 67,
     "metadata": {},
     "output_type": "execute_result"
    },
    {
     "data": {
      "text/plain": [
       "홍길동     90\n",
       "이몽룡    100\n",
       "성춘향     88\n",
       "변학도     70\n",
       "dtype: int64"
      ]
     },
     "execution_count": 67,
     "metadata": {},
     "output_type": "execute_result"
    },
    {
     "data": {
      "text/plain": [
       "홍길동     90\n",
       "이몽룡    100\n",
       "성춘향     88\n",
       "dtype: int64"
      ]
     },
     "execution_count": 67,
     "metadata": {},
     "output_type": "execute_result"
    }
   ],
   "source": [
    "s = pd.Series([95, 100, 88], \n",
    "             index = [\"홍길동\", \"이몽룡\", \"성춘향\"])\n",
    "s\n",
    "\n",
    "# 인덱스 : 변학도, value : 70 으로 추가\n",
    "s['변학도'] = 70\n",
    "s\n",
    "\n",
    "# 시리즈 vlaue 변경\n",
    "# 시리즈[index] = new value\n",
    "s['홍길동'] = 90\n",
    "s\n",
    "\n",
    "del s['변학도']\n",
    "s"
   ]
  },
  {
   "cell_type": "markdown",
   "id": "68b4bc53",
   "metadata": {},
   "source": [
    "### 인덱싱  \n",
    "    - 인덱스 종류    \n",
    "        (1) 문자형 인덱스    \n",
    "        (2) 정수형 인덱스   \n",
    "            - index 명시하지 않으면 0부터 시작하는 정수형 인덱스 자동 지정됨\n",
    "        (3) 위치 인덱스           \n",
    "    - 원소 접근  \n",
    "        (1) 정수형 인덱스 사용 : 시리즈[숫자 인덱스]  \n",
    "        (2) 문자형 인덱스 사용 : 시리즈['문자 인덱스']   \n",
    "        (3) 리스트 이용 인덱싱"
   ]
  },
  {
   "cell_type": "code",
   "execution_count": 68,
   "id": "91554d0e",
   "metadata": {},
   "outputs": [
    {
     "data": {
      "text/plain": [
       "홍길동     90\n",
       "이몽룡    100\n",
       "성춘향     88\n",
       "dtype: int64"
      ]
     },
     "execution_count": 68,
     "metadata": {},
     "output_type": "execute_result"
    },
    {
     "data": {
      "text/plain": [
       "Index(['홍길동', '이몽룡', '성춘향'], dtype='object')"
      ]
     },
     "execution_count": 68,
     "metadata": {},
     "output_type": "execute_result"
    },
    {
     "data": {
      "text/plain": [
       "100"
      ]
     },
     "execution_count": 68,
     "metadata": {},
     "output_type": "execute_result"
    },
    {
     "data": {
      "text/plain": [
       "90"
      ]
     },
     "execution_count": 68,
     "metadata": {},
     "output_type": "execute_result"
    }
   ],
   "source": [
    "s\n",
    "s.index  # 시리즈 인덱스들의 이름을 확인\n",
    "s['이몽룡']  # 확인한 인덱스의 값(value)을 확인\n",
    "s[0]  # 위치 인덱스를 사용하여 해당 순서의 원소값을 출력"
   ]
  },
  {
   "cell_type": "code",
   "execution_count": 69,
   "id": "1c13b1a6",
   "metadata": {},
   "outputs": [
    {
     "data": {
      "text/plain": [
       "1    10\n",
       "2    20\n",
       "3    30\n",
       "dtype: int64"
      ]
     },
     "execution_count": 69,
     "metadata": {},
     "output_type": "execute_result"
    },
    {
     "data": {
      "text/plain": [
       "10"
      ]
     },
     "execution_count": 69,
     "metadata": {},
     "output_type": "execute_result"
    }
   ],
   "source": [
    "# (2) 정수형 인덱스 \n",
    "s2 = pd.Series([10,20,30], index=[1,2,3])\n",
    "s2\n",
    "\n",
    "# 정수형 인덱스 접근\n",
    "s2[1] # 인덱스 1 = 첫번째 원소의 값"
   ]
  },
  {
   "cell_type": "code",
   "execution_count": 71,
   "id": "41d90c8e",
   "metadata": {},
   "outputs": [
    {
     "data": {
      "text/plain": [
       "(90, 100)"
      ]
     },
     "execution_count": 71,
     "metadata": {},
     "output_type": "execute_result"
    },
    {
     "data": {
      "text/plain": [
       "100"
      ]
     },
     "execution_count": 71,
     "metadata": {},
     "output_type": "execute_result"
    }
   ],
   "source": [
    "# 두 개 이상의 인덱싱 코드를 나열하면 튜플 형태로 출력\n",
    "s[0], s['이몽룡']\n",
    "\n",
    "s.이몽룡  # [] 안에 넣는 대신, .을 써서 참조?처럼 가져오는 것도 가능! "
   ]
  },
  {
   "cell_type": "markdown",
   "id": "c1f8c5ff",
   "metadata": {},
   "source": [
    "### 슬라이싱  \n",
    "    (1) 0-base 위치 인덱스를 이용한 슬라이싱  \n",
    "        - 시리즈[start:end] : start ~ end-1까지 추출\n",
    "    (2) 문자(라벨) 인덱스를 이용한 슬라이싱 \n",
    "        - 시리즈['시작라벨':'끝라벨']\n",
    "            - 시작에서 끝까지 양쪽 라벨 포함된 범위 추출  "
   ]
  },
  {
   "cell_type": "code",
   "execution_count": 76,
   "id": "bd1c79a0",
   "metadata": {},
   "outputs": [
    {
     "data": {
      "text/plain": [
       "서울    9631482\n",
       "부산    3393191\n",
       "인천    2632035\n",
       "대전    1490158\n",
       "dtype: int64"
      ]
     },
     "execution_count": 76,
     "metadata": {},
     "output_type": "execute_result"
    },
    {
     "data": {
      "text/plain": [
       "부산    3393191\n",
       "인천    2632035\n",
       "dtype: int64"
      ]
     },
     "execution_count": 76,
     "metadata": {},
     "output_type": "execute_result"
    },
    {
     "data": {
      "text/plain": [
       "대전    1490158\n",
       "dtype: int64"
      ]
     },
     "execution_count": 76,
     "metadata": {},
     "output_type": "execute_result"
    },
    {
     "data": {
      "text/plain": [
       "부산    3393191\n",
       "인천    2632035\n",
       "dtype: int64"
      ]
     },
     "execution_count": 76,
     "metadata": {},
     "output_type": "execute_result"
    }
   ],
   "source": [
    "city = {'서울':9631482,'부산':3393191,'인천':2632035,'대전':1490158}\n",
    "s_city = pd.Series(city)\n",
    "s_city\n",
    "\n",
    "s_city[1:3]\n",
    "s_city[3:4]\n",
    "# 문자 인덱스(라벨) 사용\n",
    "s_city[['부산', '인천']]"
   ]
  },
  {
   "cell_type": "code",
   "execution_count": 77,
   "id": "d851ccb6",
   "metadata": {},
   "outputs": [
    {
     "data": {
      "text/plain": [
       "1    100\n",
       "2    200\n",
       "3    300\n",
       "4    400\n",
       "dtype: int64"
      ]
     },
     "execution_count": 77,
     "metadata": {},
     "output_type": "execute_result"
    },
    {
     "data": {
      "text/plain": [
       "1    100\n",
       "2    200\n",
       "3    300\n",
       "dtype: int64"
      ]
     },
     "execution_count": 77,
     "metadata": {},
     "output_type": "execute_result"
    }
   ],
   "source": [
    "s = pd.Series([100,200,300,400], index=[1,2,3,4])\n",
    "s\n",
    "s[0:3] "
   ]
  },
  {
   "cell_type": "markdown",
   "id": "7d96bf67",
   "metadata": {},
   "source": [
    "### 시리즈 연산  \n",
    "    (1) 벡터화 연산  \n",
    "    (2) Boolean selection  \n",
    "    (3) 두 시리즈간의 연산"
   ]
  },
  {
   "cell_type": "code",
   "execution_count": 79,
   "id": "59cb9c25",
   "metadata": {},
   "outputs": [
    {
     "data": {
      "text/plain": [
       "0    11\n",
       "1    12\n",
       "2    13\n",
       "dtype: int64"
      ]
     },
     "execution_count": 79,
     "metadata": {},
     "output_type": "execute_result"
    }
   ],
   "source": [
    "# 시리즈 각 원소에 대하여 +10한 연산 수행 \n",
    "pd.Series([1,2,3]) + 10"
   ]
  },
  {
   "cell_type": "code",
   "execution_count": 80,
   "id": "2f0f0994",
   "metadata": {},
   "outputs": [
    {
     "data": {
      "text/plain": [
       "서울    9631482\n",
       "부산    3393191\n",
       "인천    2632035\n",
       "대전    1490158\n",
       "dtype: int64"
      ]
     },
     "execution_count": 80,
     "metadata": {},
     "output_type": "execute_result"
    },
    {
     "data": {
      "text/plain": [
       "부산    3393191\n",
       "인천    2632035\n",
       "dtype: int64"
      ]
     },
     "execution_count": 80,
     "metadata": {},
     "output_type": "execute_result"
    }
   ],
   "source": [
    "s_city\n",
    "# s시리즈 값 중 2500000 보다 크고 5000000보다 작은 원소를 추출\n",
    "s_city[(s_city>250e4) & (s_city<500e4)]"
   ]
  },
  {
   "cell_type": "markdown",
   "id": "68f0ef76",
   "metadata": {},
   "source": [
    "#### (2) Boolean selection\n",
    "  - boolean 연산 결과 True에 해당되는 값만 추출 \n",
    "  - [연산식] : 연산식 결과가 True인 것만 추출\n",
    "  - 다중조건의 경우, &(and), |(or)를 사용하여 연결 가능"
   ]
  },
  {
   "cell_type": "code",
   "execution_count": 125,
   "id": "6d618cbc",
   "metadata": {},
   "outputs": [
    {
     "data": {
      "text/plain": [
       "1     0\n",
       "2     1\n",
       "3     2\n",
       "4     3\n",
       "5     4\n",
       "6     5\n",
       "7     6\n",
       "8     7\n",
       "9     8\n",
       "10    9\n",
       "dtype: int32"
      ]
     },
     "execution_count": 125,
     "metadata": {},
     "output_type": "execute_result"
    },
    {
     "data": {
      "text/plain": [
       "1     False\n",
       "2     False\n",
       "3     False\n",
       "4     False\n",
       "5     False\n",
       "6     False\n",
       "7      True\n",
       "8      True\n",
       "9      True\n",
       "10     True\n",
       "dtype: bool"
      ]
     },
     "execution_count": 125,
     "metadata": {},
     "output_type": "execute_result"
    },
    {
     "data": {
      "text/plain": [
       "7     6\n",
       "8     7\n",
       "9     8\n",
       "10    9\n",
       "dtype: int32"
      ]
     },
     "execution_count": 125,
     "metadata": {},
     "output_type": "execute_result"
    },
    {
     "data": {
      "text/plain": [
       "1    0\n",
       "3    2\n",
       "5    4\n",
       "7    6\n",
       "9    8\n",
       "dtype: int32"
      ]
     },
     "execution_count": 125,
     "metadata": {},
     "output_type": "execute_result"
    },
    {
     "data": {
      "text/plain": [
       "1      True\n",
       "2     False\n",
       "3      True\n",
       "4     False\n",
       "5      True\n",
       "6     False\n",
       "7      True\n",
       "8     False\n",
       "9      True\n",
       "10    False\n",
       "dtype: bool"
      ]
     },
     "execution_count": 125,
     "metadata": {},
     "output_type": "execute_result"
    }
   ],
   "source": [
    "s3 = pd.Series(np.arange(10), index=np.arange(10)+1)  # arrange가 0부터 시작하니까 index를 만들 때 1을 더하기!\n",
    "s3\n",
    "\n",
    "s3 > 5  # 논리형으로 출력됨.\n",
    "\n",
    "s3[s3 > 5]  # value가 5보다 큰 데이터만 추출\n",
    "\n",
    "s3[s3 % 2 == 0]  # s3 원소 중에서 짝수 값만 추출\n",
    "\n",
    "s3%2==0"
   ]
  },
  {
   "cell_type": "code",
   "execution_count": 128,
   "id": "987a2417",
   "metadata": {},
   "outputs": [
    {
     "data": {
      "text/plain": [
       "array([False, False, False, False, False,  True,  True,  True,  True,\n",
       "        True])"
      ]
     },
     "execution_count": 128,
     "metadata": {},
     "output_type": "execute_result"
    },
    {
     "data": {
      "text/plain": [
       "6     5\n",
       "7     6\n",
       "8     7\n",
       "9     8\n",
       "10    9\n",
       "dtype: int32"
      ]
     },
     "execution_count": 128,
     "metadata": {},
     "output_type": "execute_result"
    },
    {
     "data": {
      "text/plain": [
       "5    4\n",
       "6    5\n",
       "7    6\n",
       "dtype: int32"
      ]
     },
     "execution_count": 128,
     "metadata": {},
     "output_type": "execute_result"
    },
    {
     "data": {
      "text/plain": [
       "3"
      ]
     },
     "execution_count": 128,
     "metadata": {},
     "output_type": "execute_result"
    },
    {
     "data": {
      "text/plain": [
       "24"
      ]
     },
     "execution_count": 128,
     "metadata": {},
     "output_type": "execute_result"
    },
    {
     "data": {
      "text/plain": [
       "3"
      ]
     },
     "execution_count": 128,
     "metadata": {},
     "output_type": "execute_result"
    }
   ],
   "source": [
    "# 인덱스에도 관계연산 가능\n",
    "s3.index > 5\n",
    "\n",
    "s3[s3.index > 5] # index가 5보다 큰 데이터만 추출\n",
    "\n",
    "s3[(s3 > 3) & (s3 < 7)]  # s3의 value가 3초과 7미만인 원소만 추출\n",
    "\n",
    "(s3 >= 7).sum()  # True 개수 총 합 반환 \n",
    "\n",
    "(s3[s3 >= 7]).sum() # 조건의 결과가 True 원소들의 합\n"
   ]
  },
  {
   "cell_type": "markdown",
   "id": "2c0f2b79",
   "metadata": {},
   "source": [
    "### 딕셔너리와 시리즈의 관계\n",
    "- 시리즈 객체는 인덱스를 key로 가지는 딕셔너리 형과 같다고 볼 수 있음\n",
    "- 딕셔너리에서 제공하는 대부분의 연산자 사용 가능\n",
    "    - in 연산자 : T/F\n",
    "    - for 루프를 통해 각 원소의 key와 value에 접근 가능\n",
    "    \n",
    "    #### 메소드 : 객체를 통해서 사용 (객체.메소드())\n",
    "    #### 클래스의 멤버\n",
    "    #### 함수 : 함수명만 호출해서 사용 showNames() : 독립적인 코드\n",
    "    #### 특정 기능을 수행하고 결과를 반환하는 코드 집합"
   ]
  },
  {
   "cell_type": "code",
   "execution_count": 87,
   "id": "27a6c6dc",
   "metadata": {},
   "outputs": [
    {
     "data": {
      "text/plain": [
       "a    10\n",
       "b    20\n",
       "c    30\n",
       "d    40\n",
       "dtype: int64"
      ]
     },
     "execution_count": 87,
     "metadata": {},
     "output_type": "execute_result"
    },
    {
     "data": {
      "text/plain": [
       "True"
      ]
     },
     "execution_count": 87,
     "metadata": {},
     "output_type": "execute_result"
    },
    {
     "data": {
      "text/plain": [
       "False"
      ]
     },
     "execution_count": 87,
     "metadata": {},
     "output_type": "execute_result"
    },
    {
     "data": {
      "text/plain": [
       "10"
      ]
     },
     "execution_count": 87,
     "metadata": {},
     "output_type": "execute_result"
    }
   ],
   "source": [
    "# 문자 인덱스인 경우\n",
    "num_s1=pd.Series([10,20,30,40],index=['a','b','c','d'])\n",
    "num_s1\n",
    "\n",
    "'a' in num_s1  # 인덱스 a가 시리즈에 포함되어 있는지 확인\n",
    "\n",
    "0 in num_s1\n",
    "\n",
    "num_s1[0]"
   ]
  },
  {
   "cell_type": "code",
   "execution_count": 90,
   "id": "613186e1",
   "metadata": {},
   "outputs": [
    {
     "data": {
      "text/plain": [
       "1    10\n",
       "2    20\n",
       "3    30\n",
       "4    40\n",
       "dtype: int64"
      ]
     },
     "execution_count": 90,
     "metadata": {},
     "output_type": "execute_result"
    },
    {
     "data": {
      "text/plain": [
       "True"
      ]
     },
     "execution_count": 90,
     "metadata": {},
     "output_type": "execute_result"
    }
   ],
   "source": [
    "# 숫자 인덱스인 경우\n",
    "num_s2=pd.Series([10,20,30,40],index=[1,2,3,4])\n",
    "num_s2\n",
    "\n",
    "1 in num_s2  # 인덱스가 1인 원소가 시리즈에 있는지 확인"
   ]
  },
  {
   "cell_type": "code",
   "execution_count": 89,
   "id": "71e5d358",
   "metadata": {},
   "outputs": [
    {
     "data": {
      "text/plain": [
       "True"
      ]
     },
     "execution_count": 89,
     "metadata": {},
     "output_type": "execute_result"
    },
    {
     "data": {
      "text/plain": [
       "False"
      ]
     },
     "execution_count": 89,
     "metadata": {},
     "output_type": "execute_result"
    }
   ],
   "source": [
    "# s_city로 확인하기\n",
    "\n",
    "'서울' in s_city\n",
    "'대전' not in s_city\n"
   ]
  },
  {
   "cell_type": "code",
   "execution_count": 130,
   "id": "839deccf",
   "metadata": {},
   "outputs": [
    {
     "data": {
      "text/plain": [
       "[('서울', 9631482), ('부산', 3393191), ('인천', 2632035), ('대전', 1490158)]"
      ]
     },
     "execution_count": 130,
     "metadata": {},
     "output_type": "execute_result"
    },
    {
     "data": {
      "text/plain": [
       "<zip at 0x1e737b41d80>"
      ]
     },
     "execution_count": 130,
     "metadata": {},
     "output_type": "execute_result"
    }
   ],
   "source": [
    "# 딕셔너리의 items() 함수를 시리즈에 사용 가능\n",
    "list(s_city.items())\n",
    "\n",
    "s_city.items()"
   ]
  },
  {
   "cell_type": "code",
   "execution_count": 96,
   "id": "3ca4270a",
   "metadata": {},
   "outputs": [
    {
     "name": "stdout",
     "output_type": "stream",
     "text": [
      "서울 : 9631482\n",
      "부산 : 3393191\n",
      "인천 : 2632035\n",
      "대전 : 1490158\n"
     ]
    }
   ],
   "source": [
    "# s_city 시리즈의 각 원소 출력 : for문 사용 key, value 따로 추출\n",
    "# 출력 결과 - 키 : 값\n",
    "\n",
    "for key, value in s_city.items():\n",
    "    print(key,':',value)\n",
    "    "
   ]
  },
  {
   "cell_type": "code",
   "execution_count": 131,
   "id": "ee5feeeb",
   "metadata": {},
   "outputs": [
    {
     "name": "stdout",
     "output_type": "stream",
     "text": [
      "서울\n",
      "부산\n",
      "인천\n",
      "대전\n"
     ]
    }
   ],
   "source": [
    "# key만 추출\n",
    "for key in s_city.keys():\n",
    "    print(key)    "
   ]
  },
  {
   "cell_type": "code",
   "execution_count": 134,
   "id": "96436b7f",
   "metadata": {
    "scrolled": true
   },
   "outputs": [
    {
     "name": "stdout",
     "output_type": "stream",
     "text": [
      "9631482\n",
      "3393191\n",
      "2632035\n",
      "1490158\n"
     ]
    }
   ],
   "source": [
    "# value만 추출\n",
    "for v in s_city.values:\n",
    "    print(v)"
   ]
  },
  {
   "cell_type": "markdown",
   "id": "2bcbee9b",
   "metadata": {},
   "source": [
    "### 시리즈 속성 및 함수      \n",
    "     - size 속성 : 원소 개수 반환  \n",
    "     - shape 속성 : 튜플형태로 shape반환  \n",
    "     - len() : 길이 (원소 개수 반환)\n",
    "     - unique() : 유일한 값만 ndarray로 반환  \n",
    "     - count() : NaN을 제외한 개수를 반환  \n",
    "     - mean(): NaN을 제외한 평균  \n",
    "     - value_counts() : NaN을 제외하고 각 값들의 빈도를 반환"
   ]
  },
  {
   "cell_type": "code",
   "execution_count": 108,
   "id": "2222cba6",
   "metadata": {},
   "outputs": [
    {
     "data": {
      "text/plain": [
       "0     1.0\n",
       "1     1.0\n",
       "2     2.0\n",
       "3     1.0\n",
       "4     2.0\n",
       "5     NaN\n",
       "6     2.0\n",
       "7     2.0\n",
       "8     1.0\n",
       "9     1.0\n",
       "10    3.0\n",
       "11    3.0\n",
       "12    4.0\n",
       "13    5.0\n",
       "14    5.0\n",
       "15    7.0\n",
       "16    NaN\n",
       "dtype: float64"
      ]
     },
     "execution_count": 108,
     "metadata": {},
     "output_type": "execute_result"
    },
    {
     "data": {
      "text/plain": [
       "17"
      ]
     },
     "execution_count": 108,
     "metadata": {},
     "output_type": "execute_result"
    },
    {
     "data": {
      "text/plain": [
       "17"
      ]
     },
     "execution_count": 108,
     "metadata": {},
     "output_type": "execute_result"
    },
    {
     "data": {
      "text/plain": [
       "array([ 1.,  2., nan,  3.,  4.,  5.,  7.])"
      ]
     },
     "execution_count": 108,
     "metadata": {},
     "output_type": "execute_result"
    }
   ],
   "source": [
    "s3 = pd.Series([1, 1, 2, 1, 2, np.nan, 2, 2, 1, 1, 3, 3, 4, 5, 5, 7, np.NaN])\n",
    "s3\n",
    "\n",
    "# 원소 개수\n",
    "len(s3)  # 얘는 int\n",
    "s3.size  # 얘는 튜플 형태로 나옴\n",
    "\n",
    "# 중복값 제거\n",
    "s3.unique()"
   ]
  },
  {
   "cell_type": "code",
   "execution_count": 112,
   "id": "e6b054a3",
   "metadata": {},
   "outputs": [
    {
     "data": {
      "text/plain": [
       "15"
      ]
     },
     "execution_count": 112,
     "metadata": {},
     "output_type": "execute_result"
    },
    {
     "data": {
      "text/plain": [
       "1.0    5\n",
       "2.0    4\n",
       "3.0    2\n",
       "5.0    2\n",
       "4.0    1\n",
       "7.0    1\n",
       "Name: count, dtype: int64"
      ]
     },
     "execution_count": 112,
     "metadata": {},
     "output_type": "execute_result"
    }
   ],
   "source": [
    "# 결측값 제외하고 ----\n",
    "# 원소 개수\n",
    "s3.count()\n",
    "\n",
    "s3.value_counts() # 원소마다 개수를 세서 출력"
   ]
  },
  {
   "cell_type": "code",
   "execution_count": 111,
   "id": "565a62e0",
   "metadata": {},
   "outputs": [
    {
     "data": {
      "text/plain": [
       "0    2.0\n",
       "1    2.0\n",
       "2    2.0\n",
       "3    2.0\n",
       "4    NaN\n",
       "dtype: float64"
      ]
     },
     "execution_count": 111,
     "metadata": {},
     "output_type": "execute_result"
    },
    {
     "data": {
      "text/plain": [
       "2.0"
      ]
     },
     "execution_count": 111,
     "metadata": {},
     "output_type": "execute_result"
    }
   ],
   "source": [
    "s4=pd.Series([2,2,2,2,np.NaN]) # NaN 포함된 시리즈인 경우\n",
    "s4\n",
    "s4.mean() # NaN 빼고 계산"
   ]
  },
  {
   "cell_type": "markdown",
   "id": "9f1f5775",
   "metadata": {},
   "source": [
    "### 날짜 인덱스를 이용한 시리즈 생성  \n",
    "    - 날짜 인덱스를 이용하여 시리즈 만들기  \n",
    "    - 판다스 패키지의 date_range() 함수 사용하여 날짜 생성"
   ]
  },
  {
   "cell_type": "code",
   "execution_count": 114,
   "id": "60323dea",
   "metadata": {},
   "outputs": [
    {
     "data": {
      "text/plain": [
       "2023-05-07    100.0\n",
       "2023-05-08    200.0\n",
       "2023-05-09      NaN\n",
       "2023-05-10    300.0\n",
       "dtype: float64"
      ]
     },
     "execution_count": 114,
     "metadata": {},
     "output_type": "execute_result"
    },
    {
     "data": {
      "text/plain": [
       "pandas.core.series.Series"
      ]
     },
     "execution_count": 114,
     "metadata": {},
     "output_type": "execute_result"
    }
   ],
   "source": [
    "index_date = ['2023-05-07','2023-05-08','2023-05-09','2023-05-10']\n",
    "day = pd.Series([100,200,np.nan,300],index = index_date)\n",
    "day\n",
    "\n",
    "type(day)"
   ]
  },
  {
   "cell_type": "markdown",
   "id": "2e2cd587",
   "metadata": {},
   "source": [
    "### 판다스 패키지의 date_range() 함수 사용하여 날짜 생성\n",
    "    - pd.date_range(start, end, periods, freq) \n",
    "    - 날짜 자동 생성  \n",
    "    - 지정된 범위 내의 인덱스 생성  \n",
    "    - start : (필수) 시작 날짜  \n",
    "    - end : 종료 날짜  \n",
    "    - periods : 기간 (end 또는 periods 둘 중의 하나 필수)  \n",
    "    - freq : 간격 (D(Day)가 디폴트)"
   ]
  },
  {
   "cell_type": "markdown",
   "id": "9c97de59",
   "metadata": {},
   "source": [
    "#### freq 인수\n",
    "    s: 초  \n",
    "    T: 분  \n",
    "    H: 시간  \n",
    "    D: 일(day)  \n",
    "    B: 비즈니스 데이 (평일)  \n",
    "    BH : 비즈니스 시간 (업무시간 기준 09:00:00 ... 16:00:00)\n",
    "    W: 주(일요일)  \n",
    "    W-MON: 주(월요일)  \n",
    "    M: 월말 (월 마지막일)  \n",
    "    MS: 월 시작일  \n",
    "    BM: 평일 중에서 월말  \n",
    "    BMS: 평일 중에서 월 시작일  \n",
    "    Q : 분기별 마지막 날  \n",
    "    BQS : 비즈니스 데이 분기 시작일   \n",
    "    A : 연도 마지막 날  \n",
    "    AS : 연도 시작일"
   ]
  },
  {
   "cell_type": "code",
   "execution_count": 116,
   "id": "49b2e92d",
   "metadata": {},
   "outputs": [
    {
     "data": {
      "text/plain": [
       "DatetimeIndex(['2023-05-01', '2023-05-02', '2023-05-03', '2023-05-04',\n",
       "               '2023-05-05', '2023-05-06', '2023-05-07', '2023-05-08',\n",
       "               '2023-05-09', '2023-05-10', '2023-05-11', '2023-05-12',\n",
       "               '2023-05-13', '2023-05-14', '2023-05-15', '2023-05-16',\n",
       "               '2023-05-17', '2023-05-18', '2023-05-19', '2023-05-20'],\n",
       "              dtype='datetime64[ns]', freq='D')"
      ]
     },
     "execution_count": 116,
     "metadata": {},
     "output_type": "execute_result"
    },
    {
     "data": {
      "text/plain": [
       "DatetimeIndex(['2023-05-07', '2023-05-14'], dtype='datetime64[ns]', freq='W-SUN')"
      ]
     },
     "execution_count": 116,
     "metadata": {},
     "output_type": "execute_result"
    }
   ],
   "source": [
    "# start ~ end까지 날짜 생성\n",
    "pd.date_range(start='2023-05-01', end='2023-05-20', freq ='D')\n",
    "pd.date_range(start='2023-05-01', end='2023-05-20', freq ='W')\n"
   ]
  },
  {
   "cell_type": "code",
   "execution_count": 117,
   "id": "826160d7",
   "metadata": {},
   "outputs": [
    {
     "data": {
      "text/plain": [
       "DatetimeIndex(['2023-05-07', '2023-05-14', '2023-05-21', '2023-05-28'], dtype='datetime64[ns]', freq='W-SUN')"
      ]
     },
     "execution_count": 117,
     "metadata": {},
     "output_type": "execute_result"
    }
   ],
   "source": [
    "# 2023-05-01 이후 일요일 날짜 4개 생성\n",
    "pd.date_range(start='2023-05-01', periods=4, freq='w')"
   ]
  },
  {
   "cell_type": "code",
   "execution_count": 118,
   "id": "a435a543",
   "metadata": {},
   "outputs": [
    {
     "data": {
      "text/plain": [
       "DatetimeIndex(['2023-05-01 00:00:00', '2023-05-01 01:00:00',\n",
       "               '2023-05-01 02:00:00', '2023-05-01 03:00:00',\n",
       "               '2023-05-01 04:00:00', '2023-05-01 05:00:00',\n",
       "               '2023-05-01 06:00:00', '2023-05-01 07:00:00',\n",
       "               '2023-05-01 08:00:00', '2023-05-01 09:00:00'],\n",
       "              dtype='datetime64[ns]', freq='H')"
      ]
     },
     "execution_count": 118,
     "metadata": {},
     "output_type": "execute_result"
    }
   ],
   "source": [
    "pd.date_range(start='2023-05-01 00:00', periods=10, freq='H')"
   ]
  },
  {
   "cell_type": "code",
   "execution_count": 119,
   "id": "4ccc49db",
   "metadata": {},
   "outputs": [
    {
     "data": {
      "text/plain": [
       "DatetimeIndex(['2023-05-01 09:00:00', '2023-05-01 10:00:00',\n",
       "               '2023-05-01 11:00:00', '2023-05-01 12:00:00',\n",
       "               '2023-05-01 13:00:00', '2023-05-01 14:00:00',\n",
       "               '2023-05-01 15:00:00', '2023-05-01 16:00:00',\n",
       "               '2023-05-02 09:00:00', '2023-05-02 10:00:00'],\n",
       "              dtype='datetime64[ns]', freq='BH')"
      ]
     },
     "execution_count": 119,
     "metadata": {},
     "output_type": "execute_result"
    }
   ],
   "source": [
    "pd.date_range(start='2023-05-01 00:00', periods=10, freq='BH')\n",
    "# 업무시간 기준 9 to 5로 설정"
   ]
  },
  {
   "cell_type": "code",
   "execution_count": null,
   "id": "3a93aceb",
   "metadata": {},
   "outputs": [],
   "source": []
  },
  {
   "cell_type": "code",
   "execution_count": null,
   "id": "77041d2d",
   "metadata": {},
   "outputs": [],
   "source": []
  },
  {
   "cell_type": "code",
   "execution_count": null,
   "id": "e92fafa0",
   "metadata": {},
   "outputs": [],
   "source": []
  },
  {
   "cell_type": "code",
   "execution_count": null,
   "id": "1fae7150",
   "metadata": {},
   "outputs": [],
   "source": []
  },
  {
   "cell_type": "code",
   "execution_count": null,
   "id": "6d8ea367",
   "metadata": {},
   "outputs": [],
   "source": []
  }
 ],
 "metadata": {
  "kernelspec": {
   "display_name": "Python 3 (ipykernel)",
   "language": "python",
   "name": "python3"
  },
  "language_info": {
   "codemirror_mode": {
    "name": "ipython",
    "version": 3
   },
   "file_extension": ".py",
   "mimetype": "text/x-python",
   "name": "python",
   "nbconvert_exporter": "python",
   "pygments_lexer": "ipython3",
   "version": "3.10.10"
  }
 },
 "nbformat": 4,
 "nbformat_minor": 5
}
