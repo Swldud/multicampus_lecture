{
 "cells": [
  {
   "cell_type": "markdown",
   "metadata": {},
   "source": [
    "## 구구단 출력하기\n",
    "> 2단부터 9단까지 반복문을 사용하여 구구단을 출력하세요.\n",
    "---\n",
    "**[출력 예시]**\n",
    "```\n",
    "------- [2 단] -------\n",
    "2 X 1 = 2\n",
    "2 X 2 = 4\n",
    "2 X 3 = 6\n",
    "2 X 4 = 8\n",
    "2 X 5 = 10\n",
    "2 X 6 = 12\n",
    "2 X 7 = 14\n",
    "2 X 8 = 16\n",
    "2 X 9 = 18\n",
    "\n",
    "------- [3 단] -------\n",
    "...\n",
    "```"
   ]
  },
  {
   "cell_type": "code",
   "execution_count": null,
   "metadata": {},
   "outputs": [],
   "source": [
    "# 아래에 코드를 작성하세요."
   ]
  },
  {
   "cell_type": "code",
   "execution_count": 9,
   "metadata": {
    "scrolled": true
   },
   "outputs": [
    {
     "name": "stdout",
     "output_type": "stream",
     "text": [
      "1 X 2  = 2\n",
      "2 X 2  = 4\n",
      "3 X 2  = 6\n",
      "4 X 2  = 8\n",
      "5 X 2  = 10\n",
      "6 X 2  = 12\n",
      "7 X 2  = 14\n",
      "8 X 2  = 16\n",
      "9 X 2  = 18\n",
      "1 X 3  = 3\n",
      "2 X 3  = 6\n",
      "3 X 3  = 9\n",
      "4 X 3  = 12\n",
      "5 X 3  = 15\n",
      "6 X 3  = 18\n",
      "7 X 3  = 21\n",
      "8 X 3  = 24\n",
      "9 X 3  = 27\n",
      "1 X 4  = 4\n",
      "2 X 4  = 8\n",
      "3 X 4  = 12\n",
      "4 X 4  = 16\n",
      "5 X 4  = 20\n",
      "6 X 4  = 24\n",
      "7 X 4  = 28\n",
      "8 X 4  = 32\n",
      "9 X 4  = 36\n",
      "1 X 5  = 5\n",
      "2 X 5  = 10\n",
      "3 X 5  = 15\n",
      "4 X 5  = 20\n",
      "5 X 5  = 25\n",
      "6 X 5  = 30\n",
      "7 X 5  = 35\n",
      "8 X 5  = 40\n",
      "9 X 5  = 45\n",
      "1 X 6  = 6\n",
      "2 X 6  = 12\n",
      "3 X 6  = 18\n",
      "4 X 6  = 24\n",
      "5 X 6  = 30\n",
      "6 X 6  = 36\n",
      "7 X 6  = 42\n",
      "8 X 6  = 48\n",
      "9 X 6  = 54\n",
      "1 X 7  = 7\n",
      "2 X 7  = 14\n",
      "3 X 7  = 21\n",
      "4 X 7  = 28\n",
      "5 X 7  = 35\n",
      "6 X 7  = 42\n",
      "7 X 7  = 49\n",
      "8 X 7  = 56\n",
      "9 X 7  = 63\n",
      "1 X 8  = 8\n",
      "2 X 8  = 16\n",
      "3 X 8  = 24\n",
      "4 X 8  = 32\n",
      "5 X 8  = 40\n",
      "6 X 8  = 48\n",
      "7 X 8  = 56\n",
      "8 X 8  = 64\n",
      "9 X 8  = 72\n",
      "1 X 9  = 9\n",
      "2 X 9  = 18\n",
      "3 X 9  = 27\n",
      "4 X 9  = 36\n",
      "5 X 9  = 45\n",
      "6 X 9  = 54\n",
      "7 X 9  = 63\n",
      "8 X 9  = 72\n",
      "9 X 9  = 81\n"
     ]
    }
   ],
   "source": [
    "for 단 in range(2, 10):\n",
    "    for i in range(1, 10):\n",
    "        print(f'{i} X {단}  = {i * 단}')\n",
    "    \n",
    "\n"
   ]
  },
  {
   "cell_type": "markdown",
   "metadata": {},
   "source": [
    "## 개인정보보호\n",
    "> 사용자의 핸드폰번호를 입력 받고, 개인정보 보호를 위하여 뒷자리 4자리를 제외하고는 마스킹 처리하세요.\n",
    "> * 핸드폰번호는 010으로 시작해야하고 11자리여야한다.\n",
    "> * 핸드폰번호를 입력하지 않았다면 \"핸드폰번호를 입력하세요\"를 출력한다.\n",
    "\n",
    "---\n",
    "\n",
    "**[입력 예시]**\n",
    "\n",
    "01012341234\n",
    "\n",
    "**[출력 예시]**\n",
    "\n",
    "*******1234"
   ]
  },
  {
   "cell_type": "code",
   "execution_count": null,
   "metadata": {},
   "outputs": [],
   "source": [
    "# 아래에 코드를 작성하세요."
   ]
  },
  {
   "cell_type": "code",
   "execution_count": null,
   "metadata": {},
   "outputs": [],
   "source": [
    "# phone_number = input('폰 번호를 입력해 주세요: ')\n",
    "\n",
    "# phone_number = '01012345678'"
   ]
  },
  {
   "cell_type": "code",
   "execution_count": 15,
   "metadata": {},
   "outputs": [
    {
     "ename": "SyntaxError",
     "evalue": "invalid syntax (814179946.py, line 7)",
     "output_type": "error",
     "traceback": [
      "\u001b[1;36m  Cell \u001b[1;32mIn[15], line 7\u001b[1;36m\u001b[0m\n\u001b[1;33m    masking number += '*' * 7\u001b[0m\n\u001b[1;37m            ^\u001b[0m\n\u001b[1;31mSyntaxError\u001b[0m\u001b[1;31m:\u001b[0m invalid syntax\n"
     ]
    }
   ],
   "source": [
    "phone_number = '01012345678'\n",
    "\n",
    "masking_number = ''\n",
    "\n",
    "phone_number = list(phone_number)\n",
    "\n",
    "masking number += '*' * 7 \n",
    "\n",
    "\n",
    "print(phone_number)\n",
    "print(type(phone_number))"
   ]
  },
  {
   "cell_type": "code",
   "execution_count": 33,
   "metadata": {},
   "outputs": [
    {
     "name": "stdout",
     "output_type": "stream",
     "text": [
      "*******5678\n"
     ]
    }
   ],
   "source": [
    "phone_number = '01012345678'\n",
    "masking_number = ''\n",
    "\n",
    "i = 0\n",
    "\n",
    "for i, a in enumerate(phone_number):\n",
    "    if i < 7:\n",
    "        masking_number += '*'\n",
    "    else:\n",
    "        masking_number += a\n",
    "        \n",
    "print(masking_number)\n",
    "    "
   ]
  },
  {
   "cell_type": "markdown",
   "metadata": {},
   "source": [
    "## 정중앙\n",
    "> 사용자가 입력한 문자열중 가운데 글자를 출력하세요. \n",
    "> * 단, 문자열이 짝수라면 가운데 두글자를 출력하세요.\n",
    "\n",
    "---\n",
    "\n",
    "**[입력 예시]**\n",
    "\n",
    "abc\n",
    "\n",
    "**[출력 예시]**\n",
    "\n",
    "b"
   ]
  },
  {
   "cell_type": "code",
   "execution_count": null,
   "metadata": {},
   "outputs": [],
   "source": [
    "# 아래에 코드를 작성하세요."
   ]
  },
  {
   "cell_type": "code",
   "execution_count": 12,
   "metadata": {},
   "outputs": [
    {
     "name": "stdout",
     "output_type": "stream",
     "text": [
      "문자열 ㄱㄱ:asdf\n",
      "sd\n"
     ]
    }
   ],
   "source": [
    "string = input('문자열 ㄱㄱ:')\n",
    "\n",
    "m = int(len(string) / 2)\n",
    "\n",
    "if len(string) % 2:\n",
    "    print(string[m])\n",
    "\n",
    "else:\n",
    "    print(string[m-1:m+1])\n"
   ]
  },
  {
   "cell_type": "markdown",
   "metadata": {},
   "source": [
    "## 소수 찾기\n",
    "\n",
    "> 조건, 반복문을 응용하여 numbers 리스트의 요소들이 소수인지 아닌지 판단하는 코드를 작성하세요.\n",
    "\n",
    "---\n",
    "\n",
    "\n",
    "**[입력 예시]**\n",
    "\n",
    "26, 39, 51, 53, 57, 79, 85\n",
    "\n",
    "**[출력 예시]**\n",
    "```python\n",
    "26 는 소수가 아닙니다. 2 는 26 의 인수입니다.\n",
    "39 는 소수가 아닙니다. 3 는 39 의 인수입니다.\n",
    "51 는 소수가 아닙니다. 3 는 51 의 인수입니다.\n",
    "53 는 소수입니다.\n",
    "57 는 소수가 아닙니다. 3 는 57 의 인수입니다.\n",
    "79 는 소수입니다.\n",
    "85 는 소수가 아닙니다. 5 는 85 의 인수입니다.\n",
    "```"
   ]
  },
  {
   "cell_type": "code",
   "execution_count": 2,
   "metadata": {},
   "outputs": [],
   "source": [
    "numbers = [26, 39, 51, 53, 57, 79, 85]\n",
    "\n",
    "# 아래에 코드를 작성하세요."
   ]
  },
  {
   "cell_type": "code",
   "execution_count": 6,
   "metadata": {},
   "outputs": [
    {
     "name": "stdout",
     "output_type": "stream",
     "text": [
      "26는 소수가 아닙니다. 2는 26의 인수입니다.\n",
      "39는 소수가 아닙니다. 3는 39의 인수입니다.\n",
      "51는 소수가 아닙니다. 3는 51의 인수입니다.\n",
      "53는 소수 입니다.\n",
      "57는 소수가 아닙니다. 3는 57의 인수입니다.\n",
      "79는 소수 입니다.\n",
      "85는 소수가 아닙니다. 5는 85의 인수입니다.\n"
     ]
    }
   ],
   "source": [
    "for number in numbers:\n",
    "    for 인수 in range(2, number):\n",
    "        \n",
    "        if number % 인수 == 0:\n",
    "            print(f'{number}는 소수가 아닙니다. {인수}는 {number}의 인수입니다.')\n",
    "            break\n",
    "    \n",
    "    else:\n",
    "        print(f'{number}는 소수 입니다.')\n",
    "\n",
    "# 항상 for문과 else의 위치가 동등한지 확인합시다.\n",
    "# 문제의 핵심 요소인 if 문부터 만들고 나서, for문을 생성합시다.\n",
    "# break가 없다면, 반복문이 number의 모든 인수를 계산한다. 그리고 True들만 출력해내어 보여준 뒤, else까지 가서 소수라고 말해버린다.\n"
   ]
  }
 ],
 "metadata": {
  "kernelspec": {
   "display_name": "Python 3 (ipykernel)",
   "language": "python",
   "name": "python3"
  },
  "language_info": {
   "codemirror_mode": {
    "name": "ipython",
    "version": 3
   },
   "file_extension": ".py",
   "mimetype": "text/x-python",
   "name": "python",
   "nbconvert_exporter": "python",
   "pygments_lexer": "ipython3",
   "version": "3.10.10"
  },
  "latex_envs": {
   "LaTeX_envs_menu_present": true,
   "autoclose": false,
   "autocomplete": true,
   "bibliofile": "biblio.bib",
   "cite_by": "apalike",
   "current_citInitial": 1,
   "eqLabelWithNumbers": true,
   "eqNumInitial": 1,
   "hotkeys": {
    "equation": "Ctrl-E",
    "itemize": "Ctrl-I"
   },
   "labels_anchors": false,
   "latex_user_defs": false,
   "report_style_numbering": false,
   "user_envs_cfg": false
  },
  "toc": {
   "base_numbering": 1,
   "nav_menu": {},
   "number_sections": true,
   "sideBar": true,
   "skip_h1_title": false,
   "title_cell": "Table of Contents",
   "title_sidebar": "Contents",
   "toc_cell": false,
   "toc_position": {},
   "toc_section_display": true,
   "toc_window_display": false
  },
  "vscode": {
   "interpreter": {
    "hash": "51d354aa4721e008858a28cad10f7efbfd288bcf50ac31411bfc117a31ae17c9"
   }
  }
 },
 "nbformat": 4,
 "nbformat_minor": 2
}
